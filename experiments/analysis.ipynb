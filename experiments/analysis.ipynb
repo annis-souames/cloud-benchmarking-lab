{
 "cells": [
  {
   "cell_type": "code",
   "execution_count": 46,
   "metadata": {},
   "outputs": [],
   "source": [
    "import pandas as pd\n",
    "import os\n",
    "import random\n",
    "\n",
    "def merge_csv_files(directory):\n",
    "    # List all files in the directory\n",
    "    files = os.listdir(directory)\n",
    "\n",
    "    # Filter out the files that are not CSV\n",
    "    csv_files = [f for f in files if f.endswith('.csv')]\n",
    "\n",
    "    # Initialize an empty list to hold dataframes\n",
    "    df_list = []\n",
    "\n",
    "    # Loop through all csv files and append into the dataframe list\n",
    "    for csv_file in csv_files:\n",
    "        df = pd.read_csv(os.path.join(directory, csv_file))\n",
    "        df_list.append(df)\n",
    "\n",
    "    # Concatenate all dataframes in the list\n",
    "    merged_df = pd.concat(df_list, ignore_index=True)\n",
    "\n",
    "    return merged_df\n"
   ]
  },
  {
   "cell_type": "markdown",
   "metadata": {},
   "source": [
    "## Cleaning"
   ]
  },
  {
   "cell_type": "code",
   "execution_count": 79,
   "metadata": {},
   "outputs": [],
   "source": [
    "# Merge CSV files of users and ramp experiments\n",
    "users_df = merge_csv_files(\"numb_users\")\n",
    "ramp_df = merge_csv_files(\"ramp_period\") "
   ]
  },
  {
   "cell_type": "code",
   "execution_count": 80,
   "metadata": {},
   "outputs": [],
   "source": [
    "# We remove the total rows and we add a column for number of users : #Sample/5\n",
    "users_df = users_df[users_df[\"Label\"] != \"TOTAL\"]\n",
    "users_df[\"n_users\"] = users_df[\"# Samples\"]//5\n",
    "users_df[\"std\"] = (users_df[\"Max\"] - users_df[\"Min\"])/4\n",
    "users_df[\"Throughput\"] = users_df[\"Throughput\"].str.replace(',', '.').astype(float)\n",
    "# We remove the total rows and we add a column for the ramp duration (1s, 5s, 10s)\n",
    "ramp_df = ramp_df[ramp_df[\"Label\"] != \"TOTAL\"]\n",
    "ramp_df[\"duration\"] = [10,1,5]\n",
    "ramp_df[\"Throughput\"] = ramp_df[\"Throughput\"].str.replace(',', '.').astype(float)\n"
   ]
  },
  {
   "cell_type": "code",
   "execution_count": 73,
   "metadata": {},
   "outputs": [
    {
     "data": {
      "text/html": [
       "<div>\n",
       "<style scoped>\n",
       "    .dataframe tbody tr th:only-of-type {\n",
       "        vertical-align: middle;\n",
       "    }\n",
       "\n",
       "    .dataframe tbody tr th {\n",
       "        vertical-align: top;\n",
       "    }\n",
       "\n",
       "    .dataframe thead th {\n",
       "        text-align: right;\n",
       "    }\n",
       "</style>\n",
       "<table border=\"1\" class=\"dataframe\">\n",
       "  <thead>\n",
       "    <tr style=\"text-align: right;\">\n",
       "      <th></th>\n",
       "      <th>Label</th>\n",
       "      <th># Samples</th>\n",
       "      <th>Average</th>\n",
       "      <th>Median</th>\n",
       "      <th>90% Line</th>\n",
       "      <th>95% Line</th>\n",
       "      <th>99% Line</th>\n",
       "      <th>Min</th>\n",
       "      <th>Max</th>\n",
       "      <th>Error %</th>\n",
       "      <th>Throughput</th>\n",
       "      <th>Received KB/sec</th>\n",
       "      <th>Sent KB/sec</th>\n",
       "      <th>n_users</th>\n",
       "      <th>std</th>\n",
       "    </tr>\n",
       "  </thead>\n",
       "  <tbody>\n",
       "    <tr>\n",
       "      <th>0</th>\n",
       "      <td>Homepage</td>\n",
       "      <td>500</td>\n",
       "      <td>40</td>\n",
       "      <td>39</td>\n",
       "      <td>45</td>\n",
       "      <td>49</td>\n",
       "      <td>58</td>\n",
       "      <td>36</td>\n",
       "      <td>62</td>\n",
       "      <td>0,000%</td>\n",
       "      <td>96.63703</td>\n",
       "      <td>18,69</td>\n",
       "      <td>10,38</td>\n",
       "      <td>100</td>\n",
       "      <td>6.50</td>\n",
       "    </tr>\n",
       "    <tr>\n",
       "      <th>2</th>\n",
       "      <td>Homepage</td>\n",
       "      <td>5000</td>\n",
       "      <td>65</td>\n",
       "      <td>60</td>\n",
       "      <td>93</td>\n",
       "      <td>115</td>\n",
       "      <td>140</td>\n",
       "      <td>36</td>\n",
       "      <td>389</td>\n",
       "      <td>0,000%</td>\n",
       "      <td>923.53158</td>\n",
       "      <td>178,57</td>\n",
       "      <td>99,21</td>\n",
       "      <td>1000</td>\n",
       "      <td>88.25</td>\n",
       "    </tr>\n",
       "    <tr>\n",
       "      <th>4</th>\n",
       "      <td>Homepage</td>\n",
       "      <td>50000</td>\n",
       "      <td>557</td>\n",
       "      <td>212</td>\n",
       "      <td>2176</td>\n",
       "      <td>2627</td>\n",
       "      <td>3465</td>\n",
       "      <td>37</td>\n",
       "      <td>7622</td>\n",
       "      <td>0,000%</td>\n",
       "      <td>1213.03282</td>\n",
       "      <td>234,55</td>\n",
       "      <td>130,31</td>\n",
       "      <td>10000</td>\n",
       "      <td>1896.25</td>\n",
       "    </tr>\n",
       "    <tr>\n",
       "      <th>6</th>\n",
       "      <td>Homepage</td>\n",
       "      <td>1250</td>\n",
       "      <td>42</td>\n",
       "      <td>40</td>\n",
       "      <td>49</td>\n",
       "      <td>59</td>\n",
       "      <td>75</td>\n",
       "      <td>36</td>\n",
       "      <td>92</td>\n",
       "      <td>0,000%</td>\n",
       "      <td>240.24601</td>\n",
       "      <td>46,45</td>\n",
       "      <td>25,81</td>\n",
       "      <td>250</td>\n",
       "      <td>14.00</td>\n",
       "    </tr>\n",
       "    <tr>\n",
       "      <th>8</th>\n",
       "      <td>Homepage</td>\n",
       "      <td>12500</td>\n",
       "      <td>163</td>\n",
       "      <td>136</td>\n",
       "      <td>312</td>\n",
       "      <td>408</td>\n",
       "      <td>495</td>\n",
       "      <td>38</td>\n",
       "      <td>655</td>\n",
       "      <td>0,000%</td>\n",
       "      <td>1399.61930</td>\n",
       "      <td>270,63</td>\n",
       "      <td>150,35</td>\n",
       "      <td>2500</td>\n",
       "      <td>154.25</td>\n",
       "    </tr>\n",
       "  </tbody>\n",
       "</table>\n",
       "</div>"
      ],
      "text/plain": [
       "      Label  # Samples  Average  Median  90% Line  95% Line  99% Line  Min  \\\n",
       "0  Homepage        500       40      39        45        49        58   36   \n",
       "2  Homepage       5000       65      60        93       115       140   36   \n",
       "4  Homepage      50000      557     212      2176      2627      3465   37   \n",
       "6  Homepage       1250       42      40        49        59        75   36   \n",
       "8  Homepage      12500      163     136       312       408       495   38   \n",
       "\n",
       "    Max Error %  Throughput Received KB/sec Sent KB/sec  n_users      std  \n",
       "0    62  0,000%    96.63703           18,69       10,38      100     6.50  \n",
       "2   389  0,000%   923.53158          178,57       99,21     1000    88.25  \n",
       "4  7622  0,000%  1213.03282          234,55      130,31    10000  1896.25  \n",
       "6    92  0,000%   240.24601           46,45       25,81      250    14.00  \n",
       "8   655  0,000%  1399.61930          270,63      150,35     2500   154.25  "
      ]
     },
     "execution_count": 73,
     "metadata": {},
     "output_type": "execute_result"
    }
   ],
   "source": [
    "users_df.head()"
   ]
  },
  {
   "cell_type": "code",
   "execution_count": 19,
   "metadata": {},
   "outputs": [
    {
     "data": {
      "text/html": [
       "<div>\n",
       "<style scoped>\n",
       "    .dataframe tbody tr th:only-of-type {\n",
       "        vertical-align: middle;\n",
       "    }\n",
       "\n",
       "    .dataframe tbody tr th {\n",
       "        vertical-align: top;\n",
       "    }\n",
       "\n",
       "    .dataframe thead th {\n",
       "        text-align: right;\n",
       "    }\n",
       "</style>\n",
       "<table border=\"1\" class=\"dataframe\">\n",
       "  <thead>\n",
       "    <tr style=\"text-align: right;\">\n",
       "      <th></th>\n",
       "      <th>Label</th>\n",
       "      <th># Samples</th>\n",
       "      <th>Average</th>\n",
       "      <th>Median</th>\n",
       "      <th>90% Line</th>\n",
       "      <th>95% Line</th>\n",
       "      <th>99% Line</th>\n",
       "      <th>Min</th>\n",
       "      <th>Max</th>\n",
       "      <th>Error %</th>\n",
       "      <th>Throughput</th>\n",
       "      <th>Received KB/sec</th>\n",
       "      <th>Sent KB/sec</th>\n",
       "      <th>duration</th>\n",
       "    </tr>\n",
       "  </thead>\n",
       "  <tbody>\n",
       "    <tr>\n",
       "      <th>0</th>\n",
       "      <td>Homepage</td>\n",
       "      <td>25000</td>\n",
       "      <td>320</td>\n",
       "      <td>179</td>\n",
       "      <td>935</td>\n",
       "      <td>1260</td>\n",
       "      <td>1718</td>\n",
       "      <td>36</td>\n",
       "      <td>3926</td>\n",
       "      <td>0,000%</td>\n",
       "      <td>1237,43998</td>\n",
       "      <td>239,27</td>\n",
       "      <td>132,93</td>\n",
       "      <td>10</td>\n",
       "    </tr>\n",
       "    <tr>\n",
       "      <th>2</th>\n",
       "      <td>Homepage</td>\n",
       "      <td>50000</td>\n",
       "      <td>1863</td>\n",
       "      <td>1995</td>\n",
       "      <td>4218</td>\n",
       "      <td>6352</td>\n",
       "      <td>9081</td>\n",
       "      <td>38</td>\n",
       "      <td>11530</td>\n",
       "      <td>50,000%</td>\n",
       "      <td>111,46955</td>\n",
       "      <td>162,80</td>\n",
       "      <td>5,99</td>\n",
       "      <td>1</td>\n",
       "    </tr>\n",
       "    <tr>\n",
       "      <th>4</th>\n",
       "      <td>Homepage</td>\n",
       "      <td>25000</td>\n",
       "      <td>666</td>\n",
       "      <td>224</td>\n",
       "      <td>2001</td>\n",
       "      <td>2158</td>\n",
       "      <td>2483</td>\n",
       "      <td>37</td>\n",
       "      <td>3503</td>\n",
       "      <td>0,000%</td>\n",
       "      <td>1031,48079</td>\n",
       "      <td>199,45</td>\n",
       "      <td>110,80</td>\n",
       "      <td>5</td>\n",
       "    </tr>\n",
       "  </tbody>\n",
       "</table>\n",
       "</div>"
      ],
      "text/plain": [
       "      Label  # Samples  Average  Median  90% Line  95% Line  99% Line  Min  \\\n",
       "0  Homepage      25000      320     179       935      1260      1718   36   \n",
       "2  Homepage      50000     1863    1995      4218      6352      9081   38   \n",
       "4  Homepage      25000      666     224      2001      2158      2483   37   \n",
       "\n",
       "     Max  Error %  Throughput Received KB/sec Sent KB/sec  duration  \n",
       "0   3926   0,000%  1237,43998          239,27      132,93        10  \n",
       "2  11530  50,000%   111,46955          162,80        5,99         1  \n",
       "4   3503   0,000%  1031,48079          199,45      110,80         5  "
      ]
     },
     "execution_count": 19,
     "metadata": {},
     "output_type": "execute_result"
    }
   ],
   "source": [
    "ramp_df.head()"
   ]
  },
  {
   "cell_type": "markdown",
   "metadata": {},
   "source": [
    "## Visualisation"
   ]
  },
  {
   "cell_type": "code",
   "execution_count": 74,
   "metadata": {},
   "outputs": [
    {
     "data": {
      "image/png": "[encoded data removed]",
      "text/plain": [
       "<Figure size 720x432 with 1 Axes>"
      ]
     },
     "metadata": {},
     "output_type": "display_data"
    },
    {
     "data": {
      "text/plain": [
       "<Figure size 432x288 with 0 Axes>"
      ]
     },
     "metadata": {},
     "output_type": "display_data"
    }
   ],
   "source": [
    "\n",
    "# Assuming users_df is a pandas DataFrame with columns 'average' and 'n_users'\n",
    "# Add a line for the throughput column in the same graph\n",
    "\n",
    "tmp = users_df.sort_values(by=['n_users'])\n",
    "average = tmp['Average']\n",
    "n_users = tmp['n_users']\n",
    "\n",
    "plt.figure(figsize=(10,6))\n",
    "ax = sns.lineplot(data=tmp,x=\"n_users\", y=\"Average\", markers=True)  # 95% confidence interval\n",
    "ax.fill_between(n_users, y1=tmp[\"Min\"], y2=tmp[\"Max\"], alpha=.3)\n",
    "plt.xlabel('Number of Users (Logarithmic scale)')\n",
    "plt.ylabel('Average Latency (ms)')\n",
    "plt.xscale('log')\n",
    "plt.grid(True)\n",
    "plt.show()\n",
    "plt.savefig(\"average_latency.png\")\n",
    "\n",
    "# tmp = users_df.sort_values(by=['n_users'])\n",
    "# average = tmp['Average']\n",
    "# n_users = tmp['n_users']\n",
    "# throughput = tmp['Throughput']\n",
    "\n",
    "# plt.figure(figsize=(10,6))\n",
    "# plt.plot(n_users, average, marker='o')\n",
    "# plt.title('Average vs Number of Users')\n",
    "# plt.xlabel('Number of Users (Logarithmic scale)')\n",
    "# plt.ylabel('Average')\n",
    "# plt.xscale('log')\n",
    "# plt.grid(True)\n",
    "# plt.show()"
   ]
  },
  {
   "cell_type": "code",
   "execution_count": 76,
   "metadata": {},
   "outputs": [
    {
     "data": {
      "image/png": "[encoded data removed]",
      "text/plain": [
       "<Figure size 720x432 with 1 Axes>"
      ]
     },
     "metadata": {},
     "output_type": "display_data"
    },
    {
     "data": {
      "text/plain": [
       "<Figure size 432x288 with 0 Axes>"
      ]
     },
     "metadata": {},
     "output_type": "display_data"
    }
   ],
   "source": [
    "# Avg Throughput vs Number of Users\n",
    "tmp = users_df.sort_values(by=['n_users'])\n",
    "rho = tmp['Throughput']\n",
    "n_users = tmp['n_users']\n",
    "\n",
    "plt.figure(figsize=(10,6))\n",
    "ax = sns.lineplot(data=tmp,x=\"n_users\", y=\"Throughput\", markers=True)  # 95% confidence interval\n",
    "#ax.fill_between(n_users, y1=tmp[\"Min\"], y2=tmp[\"Max\"], alpha=.3)\n",
    "plt.xlabel('Number of Users (Logarithmic scale)')\n",
    "plt.ylabel('Avg. Throughput (req/s)')\n",
    "plt.xscale('log')\n",
    "plt.grid(True)\n",
    "plt.show()\n",
    "plt.savefig(\"average_throughput.png\")"
   ]
  },
  {
   "cell_type": "code",
   "execution_count": 81,
   "metadata": {},
   "outputs": [
    {
     "data": {
      "image/png": "[encoded data removed]",
      "text/plain": [
       "<Figure size 432x288 with 1 Axes>"
      ]
     },
     "metadata": {},
     "output_type": "display_data"
    },
    {
     "data": {
      "text/plain": [
       "<Figure size 432x288 with 0 Axes>"
      ]
     },
     "metadata": {},
     "output_type": "display_data"
    }
   ],
   "source": [
    "# Average latency with Ramp Period\n",
    "\n",
    "sns.barplot(data=ramp_df,x=\"duration\", y=\"Average\")\n",
    "plt.xlabel('Ramp Period (s)')\n",
    "plt.ylabel('Average Latency (ms)')\n",
    "plt.show()\n",
    "plt.savefig(\"latency_ramp.png\")"
   ]
  },
  {
   "cell_type": "code",
   "execution_count": 82,
   "metadata": {},
   "outputs": [
    {
     "data": {
      "image/png": "[encoded data removed]",
      "text/plain": [
       "<Figure size 432x288 with 1 Axes>"
      ]
     },
     "metadata": {},
     "output_type": "display_data"
    },
    {
     "data": {
      "text/plain": [
       "<Figure size 432x288 with 0 Axes>"
      ]
     },
     "metadata": {},
     "output_type": "display_data"
    }
   ],
   "source": [
    "# Average thr with Ramp Period\n",
    "\n",
    "sns.barplot(data=ramp_df,x=\"duration\", y=\"Throughput\")\n",
    "plt.xlabel('Ramp Period (s)')\n",
    "plt.ylabel('Average Throughput (req/s)')\n",
    "plt.show()\n",
    "plt.savefig(\"thr_ramp.png\")"
   ]
  }
 ],
 "metadata": {
  "kernelspec": {
   "display_name": "base",
   "language": "python",
   "name": "python3"
  },
  "language_info": {
   "codemirror_mode": {
    "name": "ipython",
    "version": 3
   },
   "file_extension": ".py",
   "mimetype": "text/x-python",
   "name": "python",
   "nbconvert_exporter": "python",
   "pygments_lexer": "ipython3",
   "version": "3.9.7"
  }
 },
 "nbformat": 4,
 "nbformat_minor": 2
}
